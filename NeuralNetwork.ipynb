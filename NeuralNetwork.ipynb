{
  "nbformat": 4,
  "nbformat_minor": 0,
  "metadata": {
    "colab": {
      "provenance": [],
      "authorship_tag": "ABX9TyPA+1TEf4NCL5CLbBkghoYY",
      "include_colab_link": true
    },
    "kernelspec": {
      "name": "python3",
      "display_name": "Python 3"
    },
    "language_info": {
      "name": "python"
    }
  },
  "cells": [
    {
      "cell_type": "markdown",
      "metadata": {
        "id": "view-in-github",
        "colab_type": "text"
      },
      "source": [
        "<a href=\"https://colab.research.google.com/github/rabinam24/NeuralNetworkFromScratch/blob/main/NeuralNetwork.ipynb\" target=\"_parent\"><img src=\"https://colab.research.google.com/assets/colab-badge.svg\" alt=\"Open In Colab\"/></a>"
      ]
    },
    {
      "cell_type": "code",
      "execution_count": 1,
      "metadata": {
        "colab": {
          "base_uri": "https://localhost:8080/"
        },
        "id": "XmuLeGpRBMyA",
        "outputId": "d44576f7-ab80-4bf6-9719-30e188aa67c7"
      },
      "outputs": [
        {
          "output_type": "stream",
          "name": "stdout",
          "text": [
            "87.13\n"
          ]
        }
      ],
      "source": [
        "inputs=[3.3,7.4,5]\n",
        "weights=[4.1,4,7.8]\n",
        "bias= 5\n",
        "\n",
        "output= inputs[0] * weights[0] + inputs[1] * weights[1] + inputs[2] * weights[2] + bias\n",
        "\n",
        "print(output)"
      ]
    },
    {
      "cell_type": "code",
      "source": [
        "inputs = [1, 2, 3, 2.5]\n",
        "\n",
        "weights1 = [0.2, 0.8, -0.5, 1]\n",
        "weights2 = [0.5, -0.91, 0.26, -0.5]\n",
        "weights3 = [-0.26, -0.27, 0.17, 0.87]\n",
        "\n",
        "bias1 = 2\n",
        "bias2 = 3\n",
        "bias3 = 0.5\n",
        "\n",
        "outputs = [\n",
        "# Neuron 1:\n",
        "inputs[0]*weights1[0] +\n",
        "inputs[1]*weights1[1] +\n",
        "inputs[2]*weights1[2] +\n",
        "inputs[3]*weights1[3] + bias1,\n",
        "# Neuron 2:\n",
        "inputs[0]*weights2[0] +\n",
        "inputs[1]*weights2[1] +\n",
        "inputs[2]*weights2[2] +\n",
        "inputs[3]*weights2[3] + bias2,\n",
        "# Neuron 3:\n",
        "inputs[0]*weights3[0] +\n",
        "inputs[1]*weights3[1] +\n",
        "inputs[2]*weights3[2] +\n",
        "inputs[3]*weights3[3] + bias3]\n",
        "\n",
        "print(outputs)\n"
      ],
      "metadata": {
        "colab": {
          "base_uri": "https://localhost:8080/"
        },
        "id": "P1ynpYsoBTx0",
        "outputId": "38bf8270-9d09-42dd-f40f-d007f1b11c4c"
      },
      "execution_count": 2,
      "outputs": [
        {
          "output_type": "stream",
          "name": "stdout",
          "text": [
            "[4.8, 1.21, 2.385]\n"
          ]
        }
      ]
    },
    {
      "cell_type": "code",
      "source": [],
      "metadata": {
        "id": "yBGlVstdEQik"
      },
      "execution_count": null,
      "outputs": []
    }
  ]
}