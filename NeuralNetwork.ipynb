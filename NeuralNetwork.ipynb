{
  "nbformat": 4,
  "nbformat_minor": 0,
  "metadata": {
    "colab": {
      "provenance": [],
      "authorship_tag": "ABX9TyMXQIvPf07CmUIoZEU2Fgij",
      "include_colab_link": true
    },
    "kernelspec": {
      "name": "python3",
      "display_name": "Python 3"
    },
    "language_info": {
      "name": "python"
    }
  },
  "cells": [
    {
      "cell_type": "markdown",
      "metadata": {
        "id": "view-in-github",
        "colab_type": "text"
      },
      "source": [
        "<a href=\"https://colab.research.google.com/github/rabinam24/NeuralNetworkFromScratch/blob/main/NeuralNetwork.ipynb\" target=\"_parent\"><img src=\"https://colab.research.google.com/assets/colab-badge.svg\" alt=\"Open In Colab\"/></a>"
      ]
    },
    {
      "cell_type": "code",
      "execution_count": 2,
      "metadata": {
        "id": "XmuLeGpRBMyA",
        "colab": {
          "base_uri": "https://localhost:8080/"
        },
        "outputId": "37542216-f254-4011-dd28-bdfc5f40f645"
      },
      "outputs": [
        {
          "output_type": "stream",
          "name": "stdout",
          "text": [
            "87.13\n"
          ]
        }
      ],
      "source": [
        "inputs=[3.3,7.4,5]\n",
        "weights=[4.1,4,7.8]\n",
        "bias= 5\n",
        "\n",
        "output= inputs[0] * weights[0] + inputs[1] * weights[1] + inputs[2] * weights[2] + bias\n",
        "\n",
        "print(output)"
      ]
    },
    {
      "cell_type": "code",
      "source": [
        "inputs = [1, 2, 3, 2.5]\n",
        "\n",
        "weights1 = [0.2, 0.8, -0.5, 1]\n",
        "weights2 = [0.5, -0.91, 0.26, -0.5]\n",
        "weights3 = [-0.26, -0.27, 0.17, 0.87]\n",
        "\n",
        "bias1 = 2\n",
        "bias2 = 3\n",
        "bias3 = 0.5\n",
        "\n",
        "outputs = [\n",
        "# Neuron 1:\n",
        "inputs[0]*weights1[0] +\n",
        "inputs[1]*weights1[1] +\n",
        "inputs[2]*weights1[2] +\n",
        "inputs[3]*weights1[3] + bias1,\n",
        "# Neuron 2:\n",
        "inputs[0]*weights2[0] +\n",
        "inputs[1]*weights2[1] +\n",
        "inputs[2]*weights2[2] +\n",
        "inputs[3]*weights2[3] + bias2,\n",
        "# Neuron 3:\n",
        "inputs[0]*weights3[0] +\n",
        "inputs[1]*weights3[1] +\n",
        "inputs[2]*weights3[2] +\n",
        "inputs[3]*weights3[3] + bias3]\n",
        "\n",
        "print(outputs)\n"
      ],
      "metadata": {
        "id": "P1ynpYsoBTx0",
        "colab": {
          "base_uri": "https://localhost:8080/"
        },
        "outputId": "00c1ef1f-afe9-491c-dc05-f1468b18c29c"
      },
      "execution_count": 3,
      "outputs": [
        {
          "output_type": "stream",
          "name": "stdout",
          "text": [
            "[4.8, 1.21, 2.385]\n"
          ]
        }
      ]
    },
    {
      "cell_type": "code",
      "source": [
        "inputs = [1, 2, 3, 2.5]\n",
        "\n",
        "weights = [[0.2, 0.8, -0.5, 1],\n",
        "[0.5, -0.91, 0.26, -0.5],\n",
        "[-0.26, -0.27, 0.17, 0.87]]\n",
        "\n",
        "biases = [2, 3, 0.5]\n",
        "\n",
        "# Output of current layer\n",
        "layer_outputs = []\n",
        "\n",
        "# For each neuron\n",
        "for neuron_weights, neuron_bias in zip(weights, biases):\n",
        "\n",
        "# Zeroed output of given neuron\n",
        "  neuron_output = 0\n",
        "\n",
        "# For each input and weight to the neuron\n",
        "  for n_input, weight in zip(inputs, neuron_weights):\n",
        "\n",
        "# Multiply this input by associated weight\n",
        "# and add to the neuron’s output variable\n",
        "    neuron_output += n_input*weight\n",
        "\n",
        "# Add bias\n",
        "  neuron_output += neuron_bias\n",
        "\n",
        "# Put neuron’s result to the layer’s output list\n",
        "  layer_outputs.append(neuron_output)\n",
        "print(layer_outputs)\n"
      ],
      "metadata": {
        "id": "yBGlVstdEQik",
        "colab": {
          "base_uri": "https://localhost:8080/"
        },
        "outputId": "e758a4a3-d1c8-4b46-ab75-97d0782cbad3"
      },
      "execution_count": 4,
      "outputs": [
        {
          "output_type": "stream",
          "name": "stdout",
          "text": [
            "[4.8, 1.21, 2.385]\n"
          ]
        }
      ]
    },
    {
      "cell_type": "code",
      "source": [
        "import numpy as np"
      ],
      "metadata": {
        "id": "uDncvn-nY1Ba"
      },
      "execution_count": 5,
      "outputs": []
    },
    {
      "cell_type": "code",
      "source": [
        "inputs=[3.3,7.4,5]\n",
        "weights=[4.1,4,7.8]\n",
        "bias= 5\n",
        "\n",
        "output= np.dot(inputs,weights) + bias\n",
        "print(output)"
      ],
      "metadata": {
        "id": "wnYnb5jW7mPU",
        "colab": {
          "base_uri": "https://localhost:8080/"
        },
        "outputId": "5451dc90-d19f-4461-d8dd-2322a316efd7"
      },
      "execution_count": 6,
      "outputs": [
        {
          "output_type": "stream",
          "name": "stdout",
          "text": [
            "87.13\n"
          ]
        }
      ]
    },
    {
      "cell_type": "code",
      "source": [
        "inputs = [1, 2, 3, 2.5]\n",
        "\n",
        "weights = [[0.2, 0.8, -0.5, 1],\n",
        "[0.5, -0.91, 0.26, -0.5],\n",
        "[-0.26, -0.27, 0.17, 0.87]]\n",
        "\n",
        "biases = [2, 3, 0.5]\n",
        "\n",
        "output= np.dot(weights, inputs)+ biases\n",
        "print(output)"
      ],
      "metadata": {
        "id": "ASM6mOXI7sWQ",
        "colab": {
          "base_uri": "https://localhost:8080/"
        },
        "outputId": "3ff58159-1565-4d22-b7d7-ceef0fd0c128"
      },
      "execution_count": 7,
      "outputs": [
        {
          "output_type": "stream",
          "name": "stdout",
          "text": [
            "[4.8   1.21  2.385]\n"
          ]
        }
      ]
    },
    {
      "cell_type": "code",
      "source": [
        "# inputs = [1, 2, 3, 2.5]\n",
        "\n",
        "# weights = [[0.2, 0.8, -0.5, 1],\n",
        "# [0.5, -0.91, 0.26, -0.5],\n",
        "# [-0.26, -0.27, 0.17, 0.87]]\n",
        "\n",
        "# biases = [2, 3, 0.5]\n",
        "\n",
        "# output= np.dot(inputs,weights)+ biases # here if we take the inputs first then weight it will so that error because of the shape. so we put weights first and then inputs\n",
        "# print(output)"
      ],
      "metadata": {
        "id": "Zr9KPE_C8DYI"
      },
      "execution_count": 8,
      "outputs": []
    },
    {
      "cell_type": "code",
      "source": [
        "inputs = [[1, 2, 3, 2.5],\n",
        "          [2.0,5.0,-1.0,2.0],\n",
        "          [-1.5,2.7,3.3,-0.8]]\n",
        "\n",
        "weights = [[0.2, 0.8, -0.5, 1],\n",
        "[0.5, -0.91, 0.26, -0.5],\n",
        "[-0.26, -0.27, 0.17, 0.87]]\n",
        "\n",
        "biases = [2, 3, 0.5]\n",
        "\n",
        "output= np.dot(inputs,np.array(weights).T) + biases\n",
        "print(output)"
      ],
      "metadata": {
        "id": "krqPt0oh8JNB",
        "colab": {
          "base_uri": "https://localhost:8080/"
        },
        "outputId": "e1ef6b6b-1b33-463d-8796-2ac3e681d8ab"
      },
      "execution_count": 9,
      "outputs": [
        {
          "output_type": "stream",
          "name": "stdout",
          "text": [
            "[[ 4.8    1.21   2.385]\n",
            " [ 8.9   -1.81   0.2  ]\n",
            " [ 1.41   1.051  0.026]]\n"
          ]
        }
      ]
    },
    {
      "cell_type": "code",
      "source": [],
      "metadata": {
        "id": "rmLmRQc4uO6B"
      },
      "execution_count": 9,
      "outputs": []
    }
  ]
}